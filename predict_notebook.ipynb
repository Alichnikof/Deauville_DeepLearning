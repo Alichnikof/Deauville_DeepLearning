{
 "cells": [
  {
   "cell_type": "code",
   "execution_count": 3,
   "id": "a4fd37e7",
   "metadata": {},
   "outputs": [
    {
     "name": "stdout",
     "output_type": "stream",
     "text": [
      "Exécution de la commande suivante :\n",
      " python predict.py --output /home/mezher/Documents/Deauville_DeepLearning/prediction/externalcopy --chptfolder /home/mezher/Documents/Deauville_DeepLearning/checkpoints --normalize --splits 0 9\n",
      "  dataset size: 578\n",
      "  loop time: 0 min\n",
      "  dataset size: 578\n",
      "  loop time: 0 min\n",
      "  dataset size: 578\n",
      "  loop time: 0 min\n",
      "  dataset size: 578\n",
      "  loop time: 0 min\n",
      "  dataset size: 578\n",
      "  loop time: 0 min\n",
      "  dataset size: 578\n",
      "  loop time: 0 min\n",
      "  dataset size: 578\n",
      "  loop time: 0 min\n",
      "  dataset size: 578\n",
      "  loop time: 0 min\n",
      "  dataset size: 578\n",
      "  loop time: 0 min\n",
      "  dataset size: 578\n",
      "  loop time: 0 min\n"
     ]
    },
    {
     "data": {
      "text/plain": [
       "0"
      ]
     },
     "execution_count": 3,
     "metadata": {},
     "output_type": "execute_result"
    }
   ],
   "source": [
    "import os\n",
    "\n",
    "\n",
    "# Construit la commande. Ici, on passe --output, --chptfolder, --normalize et --splits.\n",
    "cmd = (\n",
    "    f\"python predict.py \"\n",
    "    f\"--output /home/mezher/Documents/Deauville_DeepLearning/prediction/externalcopy \"\n",
    "    f\"--chptfolder /home/mezher/Documents/Deauville_DeepLearning/checkpoints \"\n",
    "    f\"--normalize \"\n",
    "    f\"--splits 0 9\"\n",
    ")\n",
    "print(\"Exécution de la commande suivante :\\n\", cmd)\n",
    "\n",
    "# Exécute la commande\n",
    "os.system(cmd)\n"
   ]
  },
  {
   "cell_type": "code",
   "execution_count": 1,
   "id": "8d35e3e3",
   "metadata": {},
   "outputs": [
    {
     "name": "stdout",
     "output_type": "stream",
     "text": [
      "Exécution de la commande suivante :\n",
      " python predict.py --output /home/mezher/Documents/Deauville_DeepLearning/prediction/transfer/Run12v3 --chptfolder /home/mezher/Documents/Deauville_DeepLearning/training_results --normalize --splits 0 9\n",
      "  dataset size: 578\n",
      "  loop time: 0 min\n",
      "  dataset size: 578\n",
      "  loop time: 0 min\n",
      "  dataset size: 578\n",
      "  loop time: 0 min\n",
      "  dataset size: 578\n",
      "  loop time: 0 min\n",
      "  dataset size: 578\n",
      "  loop time: 0 min\n",
      "  dataset size: 578\n",
      "  loop time: 0 min\n",
      "  dataset size: 578\n",
      "  loop time: 0 min\n",
      "  dataset size: 578\n",
      "  loop time: 0 min\n",
      "  dataset size: 578\n",
      "  loop time: 0 min\n",
      "  dataset size: 578\n",
      "  loop time: 0 min\n"
     ]
    },
    {
     "data": {
      "text/plain": [
       "0"
      ]
     },
     "execution_count": 1,
     "metadata": {},
     "output_type": "execute_result"
    }
   ],
   "source": [
    "import os\n",
    "\n",
    "\n",
    "# Construit la commande. Ici, on passe --output, --chptfolder, --normalize et --splits.\n",
    "cmd = (\n",
    "    f\"python predict.py \"\n",
    "    f\"--output /home/mezher/Documents/Deauville_DeepLearning/prediction/transfer/Run12v3 \"\n",
    "    f\"--chptfolder /home/mezher/Documents/Deauville_DeepLearning/training_results \"\n",
    "    f\"--normalize \"\n",
    "    f\"--splits 0 9\"\n",
    ")\n",
    "print(\"Exécution de la commande suivante :\\n\", cmd)\n",
    "\n",
    "# Exécute la commande\n",
    "os.system(cmd)\n"
   ]
  },
  {
   "cell_type": "code",
   "execution_count": 2,
   "id": "1c81971c",
   "metadata": {},
   "outputs": [
    {
     "name": "stdout",
     "output_type": "stream",
     "text": [
      "Exécution de la commande suivante :\n",
      " python predict.py --output /home/mezher/Documents/Deauville_DeepLearning/prediction/scratch/Run7 --chptfolder /home/mezher/Documents/Deauville_DeepLearning/training_results --normalize --splits 0 19\n",
      "  dataset size: 578\n",
      "  loop time: 0 min\n",
      "  dataset size: 578\n",
      "  loop time: 0 min\n",
      "  dataset size: 578\n",
      "  loop time: 0 min\n",
      "  dataset size: 578\n",
      "  loop time: 0 min\n",
      "  dataset size: 578\n",
      "  loop time: 0 min\n",
      "  dataset size: 578\n",
      "  loop time: 0 min\n",
      "  dataset size: 578\n",
      "  loop time: 0 min\n",
      "  dataset size: 578\n",
      "  loop time: 0 min\n",
      "  dataset size: 578\n",
      "  loop time: 0 min\n",
      "  dataset size: 578\n",
      "  loop time: 0 min\n",
      "  dataset size: 578\n",
      "  loop time: 0 min\n",
      "  dataset size: 578\n",
      "  loop time: 0 min\n",
      "  dataset size: 578\n",
      "  loop time: 0 min\n",
      "  dataset size: 578\n",
      "  loop time: 0 min\n",
      "  dataset size: 578\n",
      "  loop time: 0 min\n",
      "  dataset size: 578\n",
      "  loop time: 0 min\n",
      "  dataset size: 578\n",
      "  loop time: 0 min\n",
      "  dataset size: 578\n",
      "  loop time: 0 min\n",
      "  dataset size: 578\n",
      "  loop time: 0 min\n",
      "  dataset size: 578\n",
      "  loop time: 0 min\n"
     ]
    },
    {
     "data": {
      "text/plain": [
       "0"
      ]
     },
     "execution_count": 2,
     "metadata": {},
     "output_type": "execute_result"
    }
   ],
   "source": [
    "import os\n",
    "\n",
    "\n",
    "# Construit la commande. Ici, on passe --output, --chptfolder, --normalize et --splits.\n",
    "cmd = (\n",
    "    f\"python predict.py \"\n",
    "    f\"--output /home/mezher/Documents/Deauville_DeepLearning/prediction/scratch/Run7 \"\n",
    "    f\"--chptfolder /home/mezher/Documents/Deauville_DeepLearning/training_results \"\n",
    "    f\"--normalize \"\n",
    "    f\"--splits 0 19\"\n",
    ")\n",
    "print(\"Exécution de la commande suivante :\\n\", cmd)\n",
    "\n",
    "# Exécute la commande\n",
    "os.system(cmd)\n"
   ]
  },
  {
   "cell_type": "code",
   "execution_count": null,
   "id": "24792d5e",
   "metadata": {},
   "outputs": [
    {
     "name": "stdout",
     "output_type": "stream",
     "text": [
      "Running command: python predict.py --output /home/mezher/Documents/Deauville_DeepLearning/prediction/scratch/Run10 --chptfolder /home/mezher/Documents/Deauville_DeepLearning/training_results --normalize --splits 0 0 --cls_arch simple  \n",
      "  dataset size: 578\n",
      "  loop time: 0 min\n",
      "Running command: python predict.py --output /home/mezher/Documents/Deauville_DeepLearning/prediction/scratch/Run10 --chptfolder /home/mezher/Documents/Deauville_DeepLearning/training_results --normalize --splits 1 1 --cls_arch simple  \n",
      "  dataset size: 578\n",
      "  loop time: 0 min\n",
      "Running command: python predict.py --output /home/mezher/Documents/Deauville_DeepLearning/prediction/scratch/Run10 --chptfolder /home/mezher/Documents/Deauville_DeepLearning/training_results --normalize --splits 2 2 --cls_arch simple  \n",
      "  dataset size: 578\n",
      "  loop time: 0 min\n",
      "Running command: python predict.py --output /home/mezher/Documents/Deauville_DeepLearning/prediction/scratch/Run10 --chptfolder /home/mezher/Documents/Deauville_DeepLearning/training_results --normalize --splits 3 3 --cls_arch simple  \n",
      "  dataset size: 578\n",
      "  loop time: 0 min\n",
      "Running command: python predict.py --output /home/mezher/Documents/Deauville_DeepLearning/prediction/scratch/Run10 --chptfolder /home/mezher/Documents/Deauville_DeepLearning/training_results --normalize --splits 4 4 --cls_arch complex --hidden_dim 512 --dropout 0.4850920327988685\n",
      "  dataset size: 578\n",
      "  loop time: 0 min\n",
      "Running command: python predict.py --output /home/mezher/Documents/Deauville_DeepLearning/prediction/scratch/Run10 --chptfolder /home/mezher/Documents/Deauville_DeepLearning/training_results --normalize --splits 5 5 --cls_arch simple  \n",
      "  dataset size: 578\n",
      "  loop time: 0 min\n",
      "Running command: python predict.py --output /home/mezher/Documents/Deauville_DeepLearning/prediction/scratch/Run10 --chptfolder /home/mezher/Documents/Deauville_DeepLearning/training_results --normalize --splits 6 6 --cls_arch simple  \n",
      "  dataset size: 578\n",
      "  loop time: 0 min\n",
      "Running command: python predict.py --output /home/mezher/Documents/Deauville_DeepLearning/prediction/scratch/Run10 --chptfolder /home/mezher/Documents/Deauville_DeepLearning/training_results --normalize --splits 7 7 --cls_arch complex --hidden_dim 512 --dropout 0.1429591994388154\n",
      "  dataset size: 578\n",
      "  loop time: 0 min\n",
      "Running command: python predict.py --output /home/mezher/Documents/Deauville_DeepLearning/prediction/scratch/Run10 --chptfolder /home/mezher/Documents/Deauville_DeepLearning/training_results --normalize --splits 8 8 --cls_arch simple  \n",
      "  dataset size: 578\n",
      "  loop time: 0 min\n",
      "Running command: python predict.py --output /home/mezher/Documents/Deauville_DeepLearning/prediction/scratch/Run10 --chptfolder /home/mezher/Documents/Deauville_DeepLearning/training_results --normalize --splits 9 9 --cls_arch simple  \n",
      "  dataset size: 578\n",
      "  loop time: 0 min\n",
      "Running command: python predict.py --output /home/mezher/Documents/Deauville_DeepLearning/prediction/scratch/Run10 --chptfolder /home/mezher/Documents/Deauville_DeepLearning/training_results --normalize --splits 10 10 --cls_arch complex --hidden_dim 320 --dropout 0.2338216995325822\n"
     ]
    },
    {
     "name": "stderr",
     "output_type": "stream",
     "text": [
      "Traceback (most recent call last):\n",
      "  File \"/home/mezher/Documents/Deauville_DeepLearning/predict.py\", line 95, in <module>\n",
      "    main()\n",
      "  File \"/home/mezher/Documents/Deauville_DeepLearning/predict.py\", line 53, in main\n",
      "    model = utils.model_prediction(chpnt, cls_arch=args.cls_arch, hidden_dim=args.hidden_dim, dropout=args.dropout)\n",
      "  File \"/home/mezher/Documents/Deauville_DeepLearning/utils.py\", line 12, in model_prediction\n",
      "    ch = torch.load(chpnt, weights_only=False)\n",
      "  File \"/home/mezher/Documents/Deauville_DeepLearning/thesis/lib/python3.10/site-packages/torch/serialization.py\", line 1432, in load\n",
      "    with _open_zipfile_reader(opened_file) as opened_zipfile:\n",
      "  File \"/home/mezher/Documents/Deauville_DeepLearning/thesis/lib/python3.10/site-packages/torch/serialization.py\", line 763, in __init__\n",
      "    super().__init__(torch._C.PyTorchFileReader(name_or_buffer))\n",
      "RuntimeError: PytorchStreamReader failed reading zip archive: failed finding central directory\n"
     ]
    },
    {
     "name": "stdout",
     "output_type": "stream",
     "text": [
      "Running command: python predict.py --output /home/mezher/Documents/Deauville_DeepLearning/prediction/scratch/Run10 --chptfolder /home/mezher/Documents/Deauville_DeepLearning/training_results --normalize --splits 11 11 --cls_arch complex --hidden_dim 512 --dropout 0.4917585043090337\n"
     ]
    },
    {
     "name": "stderr",
     "output_type": "stream",
     "text": [
      "Traceback (most recent call last):\n",
      "  File \"/home/mezher/Documents/Deauville_DeepLearning/predict.py\", line 95, in <module>\n",
      "    main()\n",
      "  File \"/home/mezher/Documents/Deauville_DeepLearning/predict.py\", line 53, in main\n",
      "    model = utils.model_prediction(chpnt, cls_arch=args.cls_arch, hidden_dim=args.hidden_dim, dropout=args.dropout)\n",
      "  File \"/home/mezher/Documents/Deauville_DeepLearning/utils.py\", line 12, in model_prediction\n",
      "    ch = torch.load(chpnt, weights_only=False)\n",
      "  File \"/home/mezher/Documents/Deauville_DeepLearning/thesis/lib/python3.10/site-packages/torch/serialization.py\", line 1425, in load\n",
      "    with _open_file_like(f, \"rb\") as opened_file:\n",
      "  File \"/home/mezher/Documents/Deauville_DeepLearning/thesis/lib/python3.10/site-packages/torch/serialization.py\", line 751, in _open_file_like\n",
      "    return _open_file(name_or_buffer, mode)\n",
      "  File \"/home/mezher/Documents/Deauville_DeepLearning/thesis/lib/python3.10/site-packages/torch/serialization.py\", line 732, in __init__\n",
      "    super().__init__(open(name, mode))\n",
      "FileNotFoundError: [Errno 2] No such file or directory: '/home/mezher/Documents/Deauville_DeepLearning/training_results/checkpoint_split11_run7.pth'\n"
     ]
    },
    {
     "name": "stdout",
     "output_type": "stream",
     "text": [
      "Running command: python predict.py --output /home/mezher/Documents/Deauville_DeepLearning/prediction/scratch/Run10 --chptfolder /home/mezher/Documents/Deauville_DeepLearning/training_results --normalize --splits 12 12 --cls_arch complex --hidden_dim 256 --dropout 0.3491766526560349\n"
     ]
    },
    {
     "name": "stderr",
     "output_type": "stream",
     "text": [
      "Traceback (most recent call last):\n",
      "  File \"/home/mezher/Documents/Deauville_DeepLearning/predict.py\", line 95, in <module>\n",
      "    main()\n",
      "  File \"/home/mezher/Documents/Deauville_DeepLearning/predict.py\", line 53, in main\n",
      "    model = utils.model_prediction(chpnt, cls_arch=args.cls_arch, hidden_dim=args.hidden_dim, dropout=args.dropout)\n",
      "  File \"/home/mezher/Documents/Deauville_DeepLearning/utils.py\", line 14, in model_prediction\n",
      "    model.load_state_dict(ch['state_dict'])\n",
      "  File \"/home/mezher/Documents/Deauville_DeepLearning/thesis/lib/python3.10/site-packages/torch/nn/modules/module.py\", line 2581, in load_state_dict\n",
      "    raise RuntimeError(\n",
      "RuntimeError: Error(s) in loading state_dict for my_model:\n",
      "\tMissing key(s) in state_dict: \"fc.0.weight\", \"fc.0.bias\", \"fc.3.weight\", \"fc.3.bias\". \n",
      "\tUnexpected key(s) in state_dict: \"fc.weight\", \"fc.bias\". \n"
     ]
    },
    {
     "name": "stdout",
     "output_type": "stream",
     "text": [
      "Running command: python predict.py --output /home/mezher/Documents/Deauville_DeepLearning/prediction/scratch/Run10 --chptfolder /home/mezher/Documents/Deauville_DeepLearning/training_results --normalize --splits 13 13 --cls_arch simple  \n",
      "  dataset size: 578\n",
      "  loop time: 0 min\n",
      "Running command: python predict.py --output /home/mezher/Documents/Deauville_DeepLearning/prediction/scratch/Run10 --chptfolder /home/mezher/Documents/Deauville_DeepLearning/training_results --normalize --splits 14 14 --cls_arch simple  \n",
      "  dataset size: 578\n",
      "  loop time: 0 min\n",
      "Running command: python predict.py --output /home/mezher/Documents/Deauville_DeepLearning/prediction/scratch/Run10 --chptfolder /home/mezher/Documents/Deauville_DeepLearning/training_results --normalize --splits 15 15 --cls_arch simple  \n",
      "  dataset size: 578\n"
     ]
    },
    {
     "name": "stderr",
     "output_type": "stream",
     "text": [
      "Traceback (most recent call last):\n",
      "  File \"/home/mezher/Documents/Deauville_DeepLearning/predict.py\", line 95, in <module>\n",
      "    main()\n",
      "  File \"/home/mezher/Documents/Deauville_DeepLearning/predict.py\", line 60, in main\n",
      "    out = predict(dset, model)\n",
      "  File \"/home/mezher/Documents/Deauville_DeepLearning/predict.py\", line 68, in predict\n",
      "    probs, feats = test(loader, model)\n",
      "  File \"/home/mezher/Documents/Deauville_DeepLearning/predict.py\", line 84, in test\n",
      "    f, output = model.forward_feat(input)\n",
      "  File \"/home/mezher/Documents/Deauville_DeepLearning/utils.py\", line 62, in forward_feat\n",
      "    features = self.features(x)\n",
      "  File \"/home/mezher/Documents/Deauville_DeepLearning/thesis/lib/python3.10/site-packages/torch/nn/modules/module.py\", line 1739, in _wrapped_call_impl\n",
      "    return self._call_impl(*args, **kwargs)\n",
      "  File \"/home/mezher/Documents/Deauville_DeepLearning/thesis/lib/python3.10/site-packages/torch/nn/modules/module.py\", line 1750, in _call_impl\n",
      "    return forward_call(*args, **kwargs)\n",
      "  File \"/home/mezher/Documents/Deauville_DeepLearning/thesis/lib/python3.10/site-packages/torch/nn/modules/container.py\", line 250, in forward\n",
      "    input = module(input)\n",
      "  File \"/home/mezher/Documents/Deauville_DeepLearning/thesis/lib/python3.10/site-packages/torch/nn/modules/module.py\", line 1739, in _wrapped_call_impl\n",
      "    return self._call_impl(*args, **kwargs)\n",
      "  File \"/home/mezher/Documents/Deauville_DeepLearning/thesis/lib/python3.10/site-packages/torch/nn/modules/module.py\", line 1750, in _call_impl\n",
      "    return forward_call(*args, **kwargs)\n",
      "  File \"/home/mezher/Documents/Deauville_DeepLearning/thesis/lib/python3.10/site-packages/torch/nn/modules/conv.py\", line 554, in forward\n",
      "    return self._conv_forward(input, self.weight, self.bias)\n",
      "  File \"/home/mezher/Documents/Deauville_DeepLearning/thesis/lib/python3.10/site-packages/torch/nn/modules/conv.py\", line 549, in _conv_forward\n",
      "    return F.conv2d(\n",
      "KeyboardInterrupt\n"
     ]
    },
    {
     "name": "stdout",
     "output_type": "stream",
     "text": [
      "Running command: python predict.py --output /home/mezher/Documents/Deauville_DeepLearning/prediction/scratch/Run10 --chptfolder /home/mezher/Documents/Deauville_DeepLearning/training_results --normalize --splits 16 16 --cls_arch simple  \n",
      "  dataset size: 578\n",
      "  loop time: 0 min\n",
      "Running command: python predict.py --output /home/mezher/Documents/Deauville_DeepLearning/prediction/scratch/Run10 --chptfolder /home/mezher/Documents/Deauville_DeepLearning/training_results --normalize --splits 17 17 --cls_arch simple  \n"
     ]
    }
   ],
   "source": [
    "import os\n",
    "import pandas as pd\n",
    "import math\n",
    "\n",
    "# Path to the CSV file with best parameters for inference\n",
    "csv_path = \"/home/mezher/Documents/Deauville_DeepLearning/best_params_summary.csv\"\n",
    "best_params = pd.read_csv(csv_path)\n",
    "\n",
    "\n",
    "for split_index in range(10):\n",
    "    \n",
    "    # 1) Get the row of best_params for the given split\n",
    "    row = best_params[best_params[\"split\"] == split_index]\n",
    "    if len(row) == 0:\n",
    "        print(f\"No row found in best_params for split={split_index}. Skipping.\")\n",
    "        continue\n",
    "    row = row.iloc[0]  # take the first matching row if multiple\n",
    "    \n",
    "    # 2) Basic arguments\n",
    "    chptfolder = \"/home/mezher/Documents/Deauville_DeepLearning/training_results\"\n",
    "    output_dir = \"/home/mezher/Documents/Deauville_DeepLearning/prediction/scratch/Run10\"\n",
    "    \n",
    "    # 3) Determine which architecture: simple or complex\n",
    "    cls_arch = str(row[\"params_cls_arch\"]).strip()\n",
    "    arch_flag = f\"--cls_arch {cls_arch}\"\n",
    "    \n",
    "    # 4) If complex, parse hidden_dim and dropout\n",
    "    hidden_dim_flag = \"\"\n",
    "    dropout_flag = \"\"\n",
    "    if cls_arch == \"complex\":\n",
    "        # Hidden dim (if present)\n",
    "        if \"params_hidden_dim\" in row and not pd.isna(row[\"params_hidden_dim\"]):\n",
    "            hd_val = int(row[\"params_hidden_dim\"])\n",
    "            hidden_dim_flag = f\"--hidden_dim {hd_val}\"\n",
    "        # Dropout\n",
    "        if \"params_dropout\" in row and not pd.isna(row[\"params_dropout\"]):\n",
    "            dp_val = float(row[\"params_dropout\"])\n",
    "            dropout_flag = f\"--dropout {dp_val}\"\n",
    "    \n",
    "    # 5) Build the prediction command\n",
    "    command = (\n",
    "        f\"python predict.py \"\n",
    "        f\"--output {output_dir} \"\n",
    "        f\"--chptfolder {chptfolder} \"\n",
    "        f\"--normalize \"\n",
    "        f\"--splits {split_index} {split_index} \"  # for a single split\n",
    "        f\"{arch_flag} \"\n",
    "        f\"{hidden_dim_flag} \"\n",
    "        f\"{dropout_flag}\"\n",
    "    )\n",
    "    \n",
    "    print(\"Running command:\", command)\n",
    "    os.system(command)\n"
   ]
  }
 ],
 "metadata": {
  "kernelspec": {
   "display_name": "thesis",
   "language": "python",
   "name": "python3"
  },
  "language_info": {
   "codemirror_mode": {
    "name": "ipython",
    "version": 3
   },
   "file_extension": ".py",
   "mimetype": "text/x-python",
   "name": "python",
   "nbconvert_exporter": "python",
   "pygments_lexer": "ipython3",
   "version": "3.10.12"
  }
 },
 "nbformat": 4,
 "nbformat_minor": 5
}
